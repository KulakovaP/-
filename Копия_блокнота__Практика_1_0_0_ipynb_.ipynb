{
  "nbformat": 4,
  "nbformat_minor": 0,
  "metadata": {
    "colab": {
      "provenance": []
    },
    "kernelspec": {
      "name": "python3",
      "display_name": "Python 3"
    },
    "language_info": {
      "name": "python"
    }
  },
  "cells": [
    {
      "cell_type": "markdown",
      "source": [
        "ФИО: Кулакова Полина Сергеевна"
      ],
      "metadata": {
        "id": "fLDS5f_mCnPa"
      }
    },
    {
      "cell_type": "markdown",
      "source": [
        "# Задание (совместное с преподавателем)\n",
        "\n",
        "\n"
      ],
      "metadata": {
        "id": "-CSHUbWzCqeM"
      }
    },
    {
      "cell_type": "markdown",
      "source": [
        "Напишите систему для учёта отпусков с возможностью узнавать, сколько дней отпуска осталось у того или иного сотрудника.\n",
        "Для этого создайте класс Employee со следующими методами:\n",
        "\n",
        "- Метод consume_vacation должен отвечать за списание дней отпуска.\n",
        "\n",
        "Единственный параметр этого метода (кроме self) — количество потраченных отпускных дней (целое число).\n",
        "\n",
        "При вызове метода consume_vacation соответствующее количество дней должно вычитаться из общего числа доступных отпускных дней сотрудника.\n",
        "\n",
        "Чтобы определить число доступных отпускных дней конкретного сотрудника, в классе опишите атрибут экземпляра |, который по умолчанию будет равен значению атрибута класса vacation_days, и используйте этот атрибут в работе метода.\n",
        "\n",
        "- Метод get_vacation_details должен возвращать остаток отпускных дней сотрудника в формате: ```Остаток отпускных дней: <число>.```\n",
        "\n",
        "\n",
        "Чтобы проверить работу программы:\n",
        "1. Создайте экземпляр класса Employee.\n",
        "2. Вызовите метод consume_vacation, указав подходящее значение аргумента, например 7.\n",
        "3. Вызовите метод get_vacation_details."
      ],
      "metadata": {
        "id": "a_flBjZOCwYz"
      }
    },
    {
      "cell_type": "code",
      "source": [
        "class Employee:\n",
        "    # количество дней отпуска, атрибут для каждого объекта класса\n",
        "    vacation_days = 28\n",
        "\n",
        "    def __init__(self, first_name, second_name, gender, amount_of_limbs):\n",
        "        self.first_name = first_name # имя\n",
        "        self.second_name = second_name # фамилия\n",
        "        self.gender = gender # пол\n",
        "        self.amount_of_limbs = amount_of_limbs # количество конечностей\n",
        "        self.remaining_vacation_days = self.vacation_days # количество доступных дней отпуска\n",
        "\n",
        "\n",
        "    # вычитание отгуляных дней\n",
        "    def consume_vacation(self, days):\n",
        "        self.remaining_vacation_days -= days\n",
        "\n",
        "    # Вывод информации об отпуске\n",
        "    def vacation_details(self):\n",
        "        return f\"Остаток отпускных дней: {self.remaining_vacation_days}.\""
      ],
      "metadata": {
        "id": "G4bUraN4CwBI"
      },
      "execution_count": null,
      "outputs": []
    },
    {
      "cell_type": "markdown",
      "source": [
        "# Задание 1"
      ],
      "metadata": {
        "id": "8XGka5GtEBK1"
      }
    },
    {
      "cell_type": "markdown",
      "source": [
        "Задание:\n",
        "\n",
        "Создайте класс с именем Rectangle который имеет:\n",
        "- Атрибуты ширины и высоты.\n",
        "- Метод расчета площади.\n",
        "- Метод расчета периметра.\n",
        "- Метод отображения размеров прямоугольника.\n",
        "\n",
        "Создайте экземпляр класса Rectangleи продемонстрируйте его функциональность."
      ],
      "metadata": {
        "id": "jQ4qqd8nEZBY"
      }
    },
    {
      "cell_type": "code",
      "source": [
        "class Rectangle:\n",
        "\n",
        "  def __init__(self, width, length):\n",
        "    self.width = width #ширина\n",
        "    self.length = length #длина\n",
        "\n",
        "  #площадь\n",
        "  def calculate_area(self):\n",
        "    return f\"Площадь прямоугольника: {self.width * self.length}.\"\n",
        "\n",
        "  #периметр\n",
        "  def calculate_perimeter(self):\n",
        "    return f\"Периметр прямоугольника: {2 * self.width + 2 * self.length}.\"\n",
        "\n",
        "  #вывод размеров\n",
        "  def outputt(self):\n",
        "    return f\"Длина: {self.length}, Ширина: {self.width}\"\n",
        "\n",
        "\n",
        "width = int(input())\n",
        "length = int(input())\n",
        "rectangle = Rectangle(width, length)\n",
        "print(rectangle.calculate_area())\n",
        "print(rectangle.calculate_perimeter())\n",
        "print(rectangle.outputt())\n",
        "\n",
        "\n",
        "\n",
        "\n"
      ],
      "metadata": {
        "id": "dG6uNPqTEAvt",
        "colab": {
          "base_uri": "https://localhost:8080/"
        },
        "outputId": "6479a233-0cea-4822-ea9b-ca3363681c65"
      },
      "execution_count": null,
      "outputs": [
        {
          "output_type": "stream",
          "name": "stdout",
          "text": [
            "10\n",
            "10\n",
            "Площадь прямоугольника: 100.\n",
            "Периметр прямоугольника: 40.\n",
            "Длина: 10, Ширина: 10\n"
          ]
        }
      ]
    },
    {
      "cell_type": "markdown",
      "source": [
        "# Задание 2"
      ],
      "metadata": {
        "id": "0ct1u6lqE73j"
      }
    },
    {
      "cell_type": "markdown",
      "source": [
        "Задание: Создайте мини версию банковской системы:\n",
        "\n",
        "\n",
        "Инструкции:\n",
        "\n",
        "1. Создайте класс BankAccountсо следующими атрибутами:\n",
        "    - account_holder -  владелец счета\n",
        "    - balance - баланс счета\n",
        "\n",
        "2. Реализуйте следующие методы:\n",
        "    - Метод для инициализации владельца счета: имя владельца счета и установите начальный баланс на 0.\n",
        "    - deposit(amount): Добавьте указанную сумму к балансу.\n",
        "    - withdraw(amount): Вычесть указанную сумму из баланса, если средств достаточно; в противном случае вывести предупреждение.\n",
        "    - get_balance(): Возврат текущего баланса.\n",
        "\n",
        "\n",
        "Создайте объект класса и продемонстрируйте его возможности"
      ],
      "metadata": {
        "id": "FOpIpcLxE-WK"
      }
    },
    {
      "cell_type": "code",
      "source": [
        "class BankAccountco:\n",
        "\n",
        "  def __init__(self, account_holder, balance):\n",
        "    self.account_holder = account_holder\n",
        "    self.balance = balance\n",
        "\n",
        "  def deposit(self, amount): #добавить\n",
        "    self.balance += amount\n",
        "\n",
        "  def withdraw(self, amount): #вычесть\n",
        "    if self.balance >= amount:\n",
        "      self.balance -= amount\n",
        "    else:\n",
        "      return f\"На вашем балансе меньше\"\n",
        "\n",
        "  def get_balance(self): #возврат\n",
        "    return f\"Акаунт: {self.account_holder}, Баланс: {self.balance}\"\n",
        "\n",
        "\n",
        "balance = 0\n",
        "name = input('Ваше имя?  ')\n",
        "BankAccount = BankAccountco(name, balance)\n",
        "while True:\n",
        "  print('Что хотите сделать? 1.Добавить 2.Вычесть 3.Баланс 4.end')\n",
        "  go = input()\n",
        "  if go == '1':\n",
        "    amount = int(input('Сколько добавить?  '))\n",
        "    BankAccount.deposit(amount)\n",
        "  elif go == '2':\n",
        "    amount = int(input('Сколько хотите вычесть?  '))\n",
        "    BankAccount.withdraw(amount)\n",
        "  elif go == '3':\n",
        "    print(BankAccount.get_balance())\n",
        "  else:\n",
        "    break\n",
        "\n"
      ],
      "metadata": {
        "id": "WWXNIUrCE99W",
        "colab": {
          "base_uri": "https://localhost:8080/"
        },
        "outputId": "f7ffa5f9-1a85-4146-b971-3e93a9fbb16c"
      },
      "execution_count": null,
      "outputs": [
        {
          "name": "stdout",
          "output_type": "stream",
          "text": [
            "Ваше имя?  qq\n",
            "Что хотите сделать? 1.Добавить 2.Вычесть 3.Баланс 4.end\n",
            "1\n",
            "Сколько добавить?  100\n",
            "Что хотите сделать? 1.Добавить 2.Вычесть 3.Баланс 4.end\n",
            "3\n",
            "Акаунт: qq, Баланс: 100\n",
            "Что хотите сделать? 1.Добавить 2.Вычесть 3.Баланс 4.end\n",
            "2\n",
            "Сколько хотите вычесть?  100\n",
            "Что хотите сделать? 1.Добавить 2.Вычесть 3.Баланс 4.end\n",
            "3\n",
            "Акаунт: qq, Баланс: 0\n",
            "Что хотите сделать? 1.Добавить 2.Вычесть 3.Баланс 4.end\n",
            "4\n"
          ]
        }
      ]
    },
    {
      "cell_type": "markdown",
      "source": [
        "# Задание 3"
      ],
      "metadata": {
        "id": "C5DX5Uf2FfP6"
      }
    },
    {
      "cell_type": "markdown",
      "source": [
        "Возьмите код и задание (Рыцарь и дракон) из предыдущей практики и реализуйте его с применением классов"
      ],
      "metadata": {
        "id": "0cR-MYepFgz6"
      }
    },
    {
      "cell_type": "code",
      "source": [],
      "metadata": {
        "id": "Oz9BZbhAFwua"
      },
      "execution_count": null,
      "outputs": []
    },
    {
      "cell_type": "markdown",
      "source": [
        "# Дополнительное задание\n"
      ],
      "metadata": {
        "id": "b_mJHXcQGI9t"
      }
    },
    {
      "cell_type": "markdown",
      "source": [
        "Задача: Система управления библиотекой\n",
        "\n",
        "**Цель**\n",
        "Создайте простую систему управления библиотекой, которая позволит пользователям добавлять книги, брать книги, возвращать книги и просматривать список доступных книг.\n",
        "\n",
        "**Требования**\n",
        "\n",
        "1. **Определение класса**:\n",
        "   – Создайте класс с именем «Book» со следующими атрибутами:\n",
        "     - `title`\n",
        "     - `автор`\n",
        "     - `isbn`\n",
        "     - `is_borrowed` (по умолчанию `False`)\n",
        "\n",
        "2. **Класс библиотеки**:\n",
        "   - Создайте класс с именем Library, который управляет коллекцией книг.\n",
        "   - Класс должен иметь следующие методы:\n",
        "     - `__init__(self)`: инициализирует пустой список книг.\n",
        "     - `add_book(self, book: Book)`: добавляет новую книгу в библиотеку.\n",
        "     - `borrow_book(self, isbn: str)`: помечает книгу как заимствованную. Если книга не найдена или уже взята, выведите соответствующее сообщение.\n",
        "     - `return_book(self, isbn: str)`: помечает книгу как возвращенную. Если книга не найдена или не была взята взаймы, выведите соответствующее сообщение.\n",
        "     - `list_available_books(self)`: печатает список всех доступных книг в библиотеке.\n",
        "     - `find_book(self, isbn: str)`: возвращает объект книги, если он найден, в противном случае возвращает `None`.\n",
        "\n",
        "3. **Взаимодействие с пользователем**:\n",
        "   - Создайте простое текстовое меню, которое позволит пользователям:\n",
        "     - Добавить книгу\n",
        "     - Одолжить книгу\n",
        "     - Вернуть книгу\n",
        "     - Список доступных книг\n",
        "     - Выйти из программы"
      ],
      "metadata": {
        "id": "pnIUdFPcGOVL"
      }
    },
    {
      "cell_type": "code",
      "source": [],
      "metadata": {
        "id": "GKKmdfN8GL6f"
      },
      "execution_count": null,
      "outputs": []
    }
  ]
}