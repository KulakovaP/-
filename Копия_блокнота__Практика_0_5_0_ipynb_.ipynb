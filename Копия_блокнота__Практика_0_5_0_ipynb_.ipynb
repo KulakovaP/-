{
  "nbformat": 4,
  "nbformat_minor": 0,
  "metadata": {
    "colab": {
      "provenance": []
    },
    "kernelspec": {
      "name": "python3",
      "display_name": "Python 3"
    },
    "language_info": {
      "name": "python"
    }
  },
  "cells": [
    {
      "cell_type": "markdown",
      "source": [
        "ФИО:"
      ],
      "metadata": {
        "id": "Bu5gIJfHNPHw"
      }
    },
    {
      "cell_type": "code",
      "execution_count": null,
      "metadata": {
        "id": "CbHI8c7cM9Eg"
      },
      "outputs": [],
      "source": [
        "Кулакова Полина Сергеевна"
      ]
    },
    {
      "cell_type": "markdown",
      "source": [
        "# **Задание 1**"
      ],
      "metadata": {
        "id": "VrNrBpmocGRd"
      }
    },
    {
      "cell_type": "markdown",
      "source": [
        "\n",
        "\n",
        "Дан словарь, содержащий имена и возраст людей, напишите программу выводящую возраст человека по имени\n",
        "\n",
        "Дано:\n",
        "\n",
        "```\n",
        "{\"Alice\": 25, \"Bob\": 30, \"Charlie\": 35}\n",
        "```\n",
        "\n",
        "Вввод:\n",
        "\n",
        "\n",
        "```\n",
        "Alice\n",
        "```\n",
        "\n",
        "Вывод:\n",
        "\n",
        "\n",
        "```\n",
        "Alice 25\n",
        "```\n"
      ],
      "metadata": {
        "id": "XhV1bnm1bR2h"
      }
    },
    {
      "cell_type": "code",
      "source": [
        "namee = input('Введите имя ')\n",
        "my_dict = {\"Alice\": 25, \"Bob\": 30, \"Charlie\": 35}\n",
        "print(my_dict[namee])\n"
      ],
      "metadata": {
        "id": "9T0nNFCEbpaF",
        "colab": {
          "base_uri": "https://localhost:8080/"
        },
        "outputId": "a9cf02fb-e760-4af9-8a14-b485d93edc9c"
      },
      "execution_count": null,
      "outputs": [
        {
          "output_type": "stream",
          "name": "stdout",
          "text": [
            "Введите имя Bob\n",
            "30\n"
          ]
        }
      ]
    },
    {
      "cell_type": "code",
      "source": [],
      "metadata": {
        "id": "PElJj6DvsgjD"
      },
      "execution_count": null,
      "outputs": []
    },
    {
      "cell_type": "markdown",
      "source": [
        "# **Задание 2**\n"
      ],
      "metadata": {
        "id": "lpjJz-_YcJ-t"
      }
    },
    {
      "cell_type": "markdown",
      "source": [
        "\n",
        "\n",
        "Дан список, состоящий из целых чисел, необходимо написать функцию считающую сумму всех положительных четных чисел списка\n",
        "\n",
        "Ввод:\n",
        "\n",
        "```\n",
        "1, 2, 3, 4, 5, 6, 7, 8, 9\n",
        "```\n",
        "\n",
        "Вывод:\n",
        "\n",
        "\n",
        "```\n",
        "20\n",
        "```\n",
        "\n",
        "***Запрещено:***\n",
        "\n",
        "*   Использование готовых функций для суммирования чисел\n"
      ],
      "metadata": {
        "id": "tMEsAB4rUiWW"
      }
    },
    {
      "cell_type": "code",
      "source": [
        "numbers = input('Введиьтте числа через пробел ').split()\n",
        "summ = 0\n",
        "\n",
        "for number in numbers:\n",
        "  if int(number) % 2 == 0:\n",
        "    summ += int(number)\n",
        "print(summ)\n"
      ],
      "metadata": {
        "id": "wDNUFLeqNQS_",
        "colab": {
          "base_uri": "https://localhost:8080/"
        },
        "outputId": "4977757c-80dd-4bc8-b89c-ef1bc55f3225"
      },
      "execution_count": null,
      "outputs": [
        {
          "output_type": "stream",
          "name": "stdout",
          "text": [
            "Введиьтте числа через пробел 1 2 3 4 5 6 7 8 9\n",
            "20\n"
          ]
        }
      ]
    },
    {
      "cell_type": "markdown",
      "source": [
        "# **Задание 3**"
      ],
      "metadata": {
        "id": "WT_v-vz1dUZJ"
      }
    },
    {
      "cell_type": "markdown",
      "source": [
        "Дан словарь, содержащий название фрукта и его цвет, выведите список всех желтых фруктов\n",
        "\n",
        "\n",
        "Дано:\n",
        "\n",
        "```\n",
        "fruits_and_colors = {\n",
        "    \"apple\": \"red\",\n",
        "    \"banana\": \"yellow\",\n",
        "    \"mango\": \"yellow\",\n",
        "    \"orange\": \"orange\",\n",
        "    \"lemon\": \"yellow\",\n",
        "    \"grape\": \"purple\"\n",
        "}\n",
        "```\n",
        "\n",
        "Вывод:\n",
        "\n",
        "\n",
        "```\n",
        "Yellow fruits:\n",
        "banana\n",
        "lemon\n",
        "mango\n",
        "```\n",
        "\n"
      ],
      "metadata": {
        "id": "ZI5Xeh2DdXgF"
      }
    },
    {
      "cell_type": "code",
      "source": [
        "fruits_and_colors = {\n",
        "    \"apple\": \"red\",\n",
        "    \"banana\": \"yellow\",\n",
        "    \"mango\": \"yellow\",\n",
        "    \"orange\": \"orange\",\n",
        "    \"lemon\": \"yellow\",\n",
        "    \"grape\": \"purple\"\n",
        "}\n",
        "\n",
        "print('Yellow fruits:')\n",
        "for k,v in fruits_and_colors.items():\n",
        "  if v == \"yellow\":\n",
        "    print(k)\n"
      ],
      "metadata": {
        "id": "aNzFTkhKdkTG",
        "colab": {
          "base_uri": "https://localhost:8080/"
        },
        "outputId": "8ddfc66f-f1ad-4c3b-9cce-c5c1f2ac9c64"
      },
      "execution_count": null,
      "outputs": [
        {
          "output_type": "stream",
          "name": "stdout",
          "text": [
            "Yellow fruits:\n",
            "banana\n",
            "mango\n",
            "lemon\n"
          ]
        }
      ]
    },
    {
      "cell_type": "markdown",
      "source": [
        "# **Задание 4**\n"
      ],
      "metadata": {
        "id": "iHtMGt2icM7w"
      }
    },
    {
      "cell_type": "markdown",
      "source": [
        "\n",
        "\n",
        "Дан словарь, необходимо написать функцию меняющую ключ и значение местами\n",
        "\n",
        "Дано:\n",
        "\n",
        "\n",
        "```\n",
        "{\"a\": 1, \"b\": 2, \"c\": 3}\n",
        "```\n",
        "\n",
        "Вывод:\n",
        "\n",
        "```\n",
        "{1: 'a', 2: 'b', 3: 'c'}\n",
        "```\n",
        "\n"
      ],
      "metadata": {
        "id": "rS3THsnBQ_EB"
      }
    },
    {
      "cell_type": "code",
      "source": [
        "my_dict = {\"a\": 1, \"b\": 2, \"c\": 3}\n",
        "my_dict2 = { }\n",
        "\n",
        "for k,v in my_dict.items():\n",
        "  my_dict2[v] = k\n",
        "\n",
        "print(my_dict2)"
      ],
      "metadata": {
        "id": "MNRusyLDcQ59",
        "colab": {
          "base_uri": "https://localhost:8080/"
        },
        "outputId": "e7316255-9041-4564-e68f-dddcf229b18d"
      },
      "execution_count": null,
      "outputs": [
        {
          "output_type": "stream",
          "name": "stdout",
          "text": [
            "{1: 'a', 2: 'b', 3: 'c'}\n"
          ]
        }
      ]
    },
    {
      "cell_type": "markdown",
      "source": [
        "# **Задание 5**"
      ],
      "metadata": {
        "id": "x6ff5nd0cUxD"
      }
    },
    {
      "cell_type": "markdown",
      "source": [
        "Дан список слов, неограниченной длинны, сформируйте словарь, где в качестве ключа будет слово, а в качестве значения количество символов\n",
        "\n",
        "**Критерии**\n",
        "\n",
        "\n",
        "*   Словарь необходимо отсортировать по убыванию количества элементов в списке.\n",
        "*   Подсчет элементов должен быть реализован в отдельной функции\n",
        "*   Сортировка пары `ключ:значение` должна быть реализована также в виде отдельной функции\n",
        "\n",
        "\n",
        "\n",
        "\n",
        "Дано:\n",
        "```\n",
        "['apple','banana','orange','apple','apple','banana']\n",
        "```\n",
        "\n",
        "\n",
        "Вывод:\n",
        "```\n",
        "{'apple':3, 'banana': 2, 'orange': 1}\n",
        "```\n",
        "\n",
        "***Запрещено:***\n",
        "\n",
        "*   Использование готовых функций для сортировки\n",
        "*   Использование готовых функций для подсчета элементов\n",
        "\n"
      ],
      "metadata": {
        "id": "ypQNHOG4NQz3"
      }
    },
    {
      "cell_type": "code",
      "source": [
        "words = ['apple','orange','banana','apple','apple','banana']\n",
        "my_dict = { }\n",
        "my_dict2 = { }\n",
        "\n",
        "for i in words:\n",
        "  cv = 0\n",
        "  for n in words:\n",
        "    if i == n:\n",
        "      cv +=1\n",
        "  my_dict[i] = cv\n",
        "\n",
        "\n",
        "for k in my_dict.keys():\n",
        "  maxx = 0\n",
        "  ww = 0\n",
        "  for l,n in my_dict.items():\n",
        "    if int(n) > maxx:\n",
        "      maxx = n\n",
        "      ww = l\n",
        "    my_dict2[l] = n\n",
        "\n",
        "\n",
        "print(my_dict2)\n",
        "\n",
        "\n",
        "\n",
        "\n"
      ],
      "metadata": {
        "id": "J10PjdVQUbyq",
        "colab": {
          "base_uri": "https://localhost:8080/"
        },
        "outputId": "660af71e-6df7-4fd6-f066-e671b4945aa0"
      },
      "execution_count": null,
      "outputs": [
        {
          "output_type": "stream",
          "name": "stdout",
          "text": [
            "{'apple': 3, 'orange': 1, 'banana': 2}\n"
          ]
        }
      ]
    },
    {
      "cell_type": "markdown",
      "source": [
        "# **Задание 6**"
      ],
      "metadata": {
        "id": "d7fDUr2WcY_G"
      }
    },
    {
      "cell_type": "markdown",
      "source": [
        "Дан словарь, содержащий информацию о людях, необходимо:\n",
        "\n",
        "\n",
        "\n",
        "*   Вывести всех людей старше 30 лет\n",
        "*   Вывести список городов и количество людей из словаря проживающих в них\n",
        "*   Вывести список профессий и список людей для каждой профессии\n",
        "\n",
        "**Критерии**\n",
        "\n",
        "Каждый из пунктов необходимо реализовать в виде функции\n",
        "\n"
      ],
      "metadata": {
        "id": "m11qdVhSWBi7"
      }
    },
    {
      "cell_type": "code",
      "source": [
        "people_info = {\n",
        "    \"Alice\": {\"age\": 25, \"city\": \"New York\", \"occupation\": \"Engineer\"},\n",
        "    \"Bob\": {\"age\": 30, \"city\": \"Los Angeles\", \"occupation\": \"Designer\"},\n",
        "    \"Charlie\": {\"age\": 35, \"city\": \"Chicago\", \"occupation\": \"Teacher\"},\n",
        "    \"Diana\": {\"age\": 28, \"city\": \"Miami\", \"occupation\": \"Doctor\"},\n",
        "    \"Ethan\": {\"age\": 40, \"city\": \"Seattle\", \"occupation\": \"Chef\"},\n",
        "    \"Frank\": {\"age\": 32, \"city\": \"Atlanta\", \"occupation\": \"Lawyer\"},\n",
        "    \"Gabriella\": {\"age\": 29, \"city\": \"San Francisco\", \"occupation\": \"Software Engineer\"},\n",
        "    \"Harrison\": {\"age\": 38, \"city\": \"Denver\", \"occupation\": \"Architect\"},\n",
        "    \"Isabella\": {\"age\": 26, \"city\": \"Washington D.C.\", \"occupation\": \"Journalist\"},\n",
        "    \"Julian\": {\"age\": 42, \"city\": \"Miami\", \"occupation\": \"Musician\"},\n",
        "    \"Kate\": {\"age\": 31, \"city\": \"Philadelphia\", \"occupation\": \"Nurse\"},\n",
        "    \"Lucas\": {\"age\": 36, \"city\": \"Nashville\", \"occupation\": \"Businessman\"},\n",
        "    \"Mia\": {\"age\": 27, \"city\": \"Atlanta\", \"occupation\": \"Artist\"},\n",
        "    \"Natalie\": {\"age\": 39, \"city\": \"Portland\", \"occupation\": \"Writer\"},\n",
        "    \"Oliver\": {\"age\": 44, \"city\": \"Minneapolis\", \"occupation\": \"Professor\"},\n",
        "    \"Penelope\": {\"age\": 33, \"city\": \"San Diego\", \"occupation\": \"Marketing Manager\"},\n",
        "    \"Quincy\": {\"age\": 41, \"city\": \"Nashville\", \"occupation\": \"Singer\"},\n",
        "    \"Rachel\": {\"age\": 34, \"city\": \"Cleveland\", \"occupation\": \"Teacher\"},\n",
        "    \"Sophia\": {\"age\": 29, \"city\": \"Nashville\", \"occupation\": \"Engineer\"},\n",
        "    \"Tessa\": {\"age\": 37, \"city\": \"Miami\", \"occupation\": \"Lawyer\"}\n",
        "}"
      ],
      "metadata": {
        "id": "lSNtB39OWtFl"
      },
      "execution_count": null,
      "outputs": []
    },
    {
      "cell_type": "code",
      "source": [
        "people_info = {\n",
        "    \"Alice\": {\"age\": 25, \"city\": \"New York\", \"occupation\": \"Engineer\"},\n",
        "    \"Bob\": {\"age\": 30, \"city\": \"Los Angeles\", \"occupation\": \"Designer\"},\n",
        "    \"Charlie\": {\"age\": 35, \"city\": \"Chicago\", \"occupation\": \"Teacher\"},\n",
        "    \"Diana\": {\"age\": 28, \"city\": \"Miami\", \"occupation\": \"Doctor\"},\n",
        "    \"Ethan\": {\"age\": 40, \"city\": \"Seattle\", \"occupation\": \"Chef\"},\n",
        "    \"Frank\": {\"age\": 32, \"city\": \"Atlanta\", \"occupation\": \"Lawyer\"},\n",
        "    \"Gabriella\": {\"age\": 29, \"city\": \"San Francisco\", \"occupation\": \"Software Engineer\"},\n",
        "    \"Harrison\": {\"age\": 38, \"city\": \"Denver\", \"occupation\": \"Architect\"},\n",
        "    \"Isabella\": {\"age\": 26, \"city\": \"Washington D.C.\", \"occupation\": \"Journalist\"},\n",
        "    \"Julian\": {\"age\": 42, \"city\": \"Miami\", \"occupation\": \"Musician\"},\n",
        "    \"Kate\": {\"age\": 31, \"city\": \"Philadelphia\", \"occupation\": \"Nurse\"},\n",
        "    \"Lucas\": {\"age\": 36, \"city\": \"Nashville\", \"occupation\": \"Businessman\"},\n",
        "    \"Mia\": {\"age\": 27, \"city\": \"Atlanta\", \"occupation\": \"Artist\"},\n",
        "    \"Natalie\": {\"age\": 39, \"city\": \"Portland\", \"occupation\": \"Writer\"},\n",
        "    \"Oliver\": {\"age\": 44, \"city\": \"Minneapolis\", \"occupation\": \"Professor\"},\n",
        "    \"Penelope\": {\"age\": 33, \"city\": \"San Diego\", \"occupation\": \"Marketing Manager\"},\n",
        "    \"Quincy\": {\"age\": 41, \"city\": \"Nashville\", \"occupation\": \"Singer\"},\n",
        "    \"Rachel\": {\"age\": 34, \"city\": \"Cleveland\", \"occupation\": \"Teacher\"},\n",
        "    \"Sophia\": {\"age\": 29, \"city\": \"Nashville\", \"occupation\": \"Engineer\"},\n",
        "    \"Tessa\": {\"age\": 37, \"city\": \"Miami\", \"occupation\": \"Lawyer\"}\n",
        "}\n",
        "cities = {}\n",
        "\n",
        "print('люди старше 30 ')\n",
        "for k,v in people_info.items():\n",
        "  if v['age'] > 30:\n",
        "    print(k)\n",
        "\n",
        "\n",
        "print('ГОРОДА:')\n",
        "for k,v in people_info.items():\n",
        "  count = 0\n",
        "  for n,p in people_info.items():\n",
        "    if v['city'] == p['city']:\n",
        "      count += 1\n",
        "      cities[v['city']] = count\n",
        "\n",
        "\n",
        "for k,v in cities.items():\n",
        "  print(k + ':', v)\n",
        "\n",
        "\n",
        "\n",
        "occupation_people = {}\n",
        "for k,v in people_info.items():\n",
        "  occupation = v[\"occupation\"]\n",
        "  if occupation in occupation_people:\n",
        "    occupation_people[occupation].append(k)\n",
        "  else:\n",
        "    occupation_people[occupation] = [k]\n",
        "\n",
        "for k,v in occupation_people.items():\n",
        "  print(k + ':' +', '.join(v))\n",
        "\n",
        "\n",
        "\n",
        "\n",
        "\n",
        "\n",
        "\n",
        "\n"
      ],
      "metadata": {
        "id": "qcLO5eQwXkNK",
        "colab": {
          "base_uri": "https://localhost:8080/"
        },
        "outputId": "59e5f0bf-8efc-4a1d-f250-e91af45df48c"
      },
      "execution_count": 1,
      "outputs": [
        {
          "output_type": "stream",
          "name": "stdout",
          "text": [
            "люди старше 30 \n",
            "Charlie\n",
            "Ethan\n",
            "Frank\n",
            "Harrison\n",
            "Julian\n",
            "Kate\n",
            "Lucas\n",
            "Natalie\n",
            "Oliver\n",
            "Penelope\n",
            "Quincy\n",
            "Rachel\n",
            "Tessa\n",
            "ГОРОДА:\n",
            "New York: 1\n",
            "Los Angeles: 1\n",
            "Chicago: 1\n",
            "Miami: 3\n",
            "Seattle: 1\n",
            "Atlanta: 2\n",
            "San Francisco: 1\n",
            "Denver: 1\n",
            "Washington D.C.: 1\n",
            "Philadelphia: 1\n",
            "Nashville: 3\n",
            "Portland: 1\n",
            "Minneapolis: 1\n",
            "San Diego: 1\n",
            "Cleveland: 1\n",
            "Engineer:Alice, Sophia\n",
            "Designer:Bob\n",
            "Teacher:Charlie, Rachel\n",
            "Doctor:Diana\n",
            "Chef:Ethan\n",
            "Lawyer:Frank, Tessa\n",
            "Software Engineer:Gabriella\n",
            "Architect:Harrison\n",
            "Journalist:Isabella\n",
            "Musician:Julian\n",
            "Nurse:Kate\n",
            "Businessman:Lucas\n",
            "Artist:Mia\n",
            "Writer:Natalie\n",
            "Professor:Oliver\n",
            "Marketing Manager:Penelope\n",
            "Singer:Quincy\n"
          ]
        }
      ]
    },
    {
      "cell_type": "markdown",
      "source": [
        "# **Задание 7**"
      ],
      "metadata": {
        "id": "27IuB2YScezw"
      }
    },
    {
      "cell_type": "markdown",
      "source": [
        "Задание: Разработка системы отзывов о предметах\n",
        "\n",
        "Описание: Создать программу на Python для хранения и управления отзывами о предметах учебного курса. Программа должна позволять пользователям добавлять, просматривать и удалять отзывы, а также вычислять средний балл по заданному предмету.\n",
        "\n",
        "**Функционал:**\n",
        "\n",
        "*   Добавление отзыва и оценки:\n",
        "   *   Пользователь может ввести название предмета, оценку (от 1 до 5) и текст отзыва.\n",
        "   *   Отзывы должны храниться в структуре данных (например, словаре), где ключом будет название предмета, а значением - список отзывов (каждый отзыв может хранить оценку и комментарий).\n",
        "*   Просмотр отзывов и оценок:\n",
        "   *   Пользователь может запросить отзывы для указанного предмета.\n",
        "   *   Если для указанного предмета есть отзывы, программа должна отобразить список всех отзывов и соответствующих оценок.\n",
        "*   Удаление отзыва:\n",
        "   *   Пользователь может удалить отзыв по индексу. Необходимо заранее уведомить пользователя о том, какие отзывы доступны для удаления.\n",
        "   *   Программа должна обработать ситуацию, когда индекс введен неправильно.\n",
        "*   Вычисление среднего балла по предмету:\n",
        "   *   Пользователь может ввести название предмета, и программа должна вычислить и вывести средний балл по всем отзывам для этого предмета.\n",
        "   *   Если отзывов нет, программа должна сообщить об этом.\n",
        "\n",
        "\n",
        "**Критерии:**\n",
        "\n",
        "*   Код должен быть оформлен в виде функций\n",
        "*   Необходимо обрабатывать неправильный ввод пользователя\n",
        "*   Должны быть комментарии к функциям\n",
        "*   Присутсвует весь дополнительный функционал\n",
        "\n",
        "\n",
        "\n",
        "**Опционально:**\n",
        "\n",
        "Предлагаю вам добавить свои критерии оценки или вопросы, на которые должен ответить студент, чтобы оценить пару\n",
        "\n",
        "\n"
      ],
      "metadata": {
        "id": "Fd95-S9cYhct"
      }
    },
    {
      "cell_type": "code",
      "source": [
        "reviews = {}\n",
        "\n",
        "def add_review():\n",
        "    subject = input('Введите название предмета: ')\n",
        "    rating = int(input('Введите оценку (от 1 до 5): '))\n",
        "\n",
        "    # Проверка на корректность оценки\n",
        "    if rating < 1 or rating > 5:\n",
        "        print('Ошибка: оценка должна быть от 1 до 5')\n",
        "        return\n",
        "\n",
        "    comment = input('Введите текст отзыва: ')\n",
        "\n",
        "    # Добавление отзыва в словарь\n",
        "    if subject not in reviews:\n",
        "        reviews[subject] = []\n",
        "    reviews[subject].append({'rating': rating, 'comment': comment})\n",
        "    print('Отзыв добавлен')\n",
        "\n",
        "def view_reviews():\n",
        "    subject = input('Введите название предмета для просмотра отзывов: ')\n",
        "\n",
        "    if subject in reviews and reviews[subject]:\n",
        "        print(f\"Отзывы о предмете '{subject}':\")\n",
        "        for index, review in enumerate(reviews[subject]):\n",
        "            print(f\"{index + 1}. Оценка: {review['rating']}, Комментарий: {review['comment']}\")\n",
        "    else:\n",
        "        print('Нет отзывов для данного предмета')\n",
        "\n",
        "\n",
        "def delete_review():\n",
        "    subject = input('Введите название предмета для удаления отзыва: ')\n",
        "\n",
        "    if subject in reviews and reviews[subject]:\n",
        "        view_reviews()  # Показываем доступные отзывы\n",
        "        index = int(input('Введите номер отзыва для удаления: ')) - 1\n",
        "\n",
        "        # Проверка на корректность индекса\n",
        "        if 0 <= index < len(reviews[subject]):\n",
        "            del reviews[subject][index]\n",
        "            print('Отзыв удален')\n",
        "        else:\n",
        "            print('Ошибка: неверный индекс')\n",
        "    else:\n",
        "        print('Нет отзывов для данного предмета')\n",
        "\n",
        "def calculate_average():\n",
        "    subject = input('Введите название предмета для вычисления среднего балла: ')\n",
        "\n",
        "    if subject in reviews and reviews[subject]:\n",
        "        total_rating = sum(review['rating'] for review in reviews[subject])\n",
        "        average = total_rating / len(reviews[subject])\n",
        "        print(f\"Средний балл по предмету '{subject}': {average:.2f}\")\n",
        "    else:\n",
        "        print('Нет отзывов для данного предмета')\n",
        "\n",
        "\n",
        "while True:\n",
        "    choice = input('Что хотите сделать? 1.Добавить отзыв 2.Просмотреть отзывы 3.Удалить отзыв 4.Средний балл 5.Выход')\n",
        "\n",
        "    if choice == '1':\n",
        "        add_review()\n",
        "    elif choice == '2':\n",
        "        view_reviews()\n",
        "    elif choice == '3':\n",
        "        delete_review()\n",
        "    elif choice == '4':\n",
        "        calculate_average()\n",
        "    elif choice == '5':\n",
        "        print('Выход из программы')\n",
        "        break\n",
        "    else:\n",
        "        print('Ошибка: неверный выбор. Пожалуйста, попробуйте снова')\n",
        "\n"
      ],
      "metadata": {
        "id": "kzucJrCUa0o7",
        "colab": {
          "base_uri": "https://localhost:8080/"
        },
        "outputId": "34f0ba19-c812-411e-abb8-588ac71f1abb"
      },
      "execution_count": 4,
      "outputs": [
        {
          "output_type": "stream",
          "name": "stdout",
          "text": [
            "Что хотите сделать? 1.Добавить отзыв 2.Просмотреть отзывы 3.Удалить отзыв 4.Средний балл 5.Выход1\n",
            "Введите название предмета: qq\n",
            "Введите оценку (от 1 до 5): 2\n",
            "Введите текст отзыва: ww\n",
            "Отзыв добавлен\n",
            "Что хотите сделать? 1.Добавить отзыв 2.Просмотреть отзывы 3.Удалить отзыв 4.Средний балл 5.Выход1\n",
            "Введите название предмета: qq\n",
            "Введите оценку (от 1 до 5): 4\n",
            "Введите текст отзыва: ee\n",
            "Отзыв добавлен\n",
            "Что хотите сделать? 1.Добавить отзыв 2.Просмотреть отзывы 3.Удалить отзыв 4.Средний балл 5.Выход2\n",
            "Введите название предмета для просмотра отзывов: q\n",
            "Нет отзывов для данного предмета\n",
            "Что хотите сделать? 1.Добавить отзыв 2.Просмотреть отзывы 3.Удалить отзыв 4.Средний балл 5.Выход2\n",
            "Введите название предмета для просмотра отзывов: qq\n",
            "Отзывы о предмете 'qq':\n",
            "1. Оценка: 2, Комментарий: ww\n",
            "2. Оценка: 4, Комментарий: ee\n",
            "Что хотите сделать? 1.Добавить отзыв 2.Просмотреть отзывы 3.Удалить отзыв 4.Средний балл 5.Выход4\n",
            "Введите название предмета для вычисления среднего балла: qq\n",
            "Средний балл по предмету 'qq': 3.00\n",
            "Что хотите сделать? 1.Добавить отзыв 2.Просмотреть отзывы 3.Удалить отзыв 4.Средний балл 5.Выход3\n",
            "Введите название предмета для удаления отзыва: qq\n",
            "Введите название предмета для просмотра отзывов: qq\n",
            "Отзывы о предмете 'qq':\n",
            "1. Оценка: 2, Комментарий: ww\n",
            "2. Оценка: 4, Комментарий: ee\n",
            "Введите номер отзыва для удаления: 1\n",
            "Отзыв удален\n",
            "Что хотите сделать? 1.Добавить отзыв 2.Просмотреть отзывы 3.Удалить отзыв 4.Средний балл 5.Выход2\n",
            "Введите название предмета для просмотра отзывов: qq\n",
            "Отзывы о предмете 'qq':\n",
            "1. Оценка: 4, Комментарий: ee\n",
            "Что хотите сделать? 1.Добавить отзыв 2.Просмотреть отзывы 3.Удалить отзыв 4.Средний балл 5.Выход5\n",
            "Выход из программы\n"
          ]
        }
      ]
    }
  ]
}