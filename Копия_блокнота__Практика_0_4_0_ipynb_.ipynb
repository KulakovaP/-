{
  "nbformat": 4,
  "nbformat_minor": 0,
  "metadata": {
    "colab": {
      "provenance": []
    },
    "kernelspec": {
      "name": "python3",
      "display_name": "Python 3"
    },
    "language_info": {
      "name": "python"
    }
  },
  "cells": [
    {
      "cell_type": "markdown",
      "source": [
        "Введите ваше ФИО:"
      ],
      "metadata": {
        "id": "k8oVfdwrMXyc"
      }
    },
    {
      "cell_type": "code",
      "execution_count": null,
      "metadata": {
        "id": "5mcBLsKMI1-5"
      },
      "outputs": [],
      "source": [
        "Кулакова Полина Сергеевна"
      ]
    },
    {
      "cell_type": "markdown",
      "source": [
        "***Дисклеймер***\n",
        "\n",
        "В данной практике запрещено использования функций:\n",
        "\n",
        "\n",
        "*   sum()\n",
        "*   min()\n",
        "*   max()\n",
        "*   average()\n",
        "*   reversed()\n",
        "*   sorted()\n",
        "*   готовые функции или библиотеки\n"
      ],
      "metadata": {
        "id": "8HbYUbm3Jw3o"
      }
    },
    {
      "cell_type": "markdown",
      "source": [
        "\n",
        "**Задача 1:**\n",
        "\n",
        "\n",
        "\n",
        "Интернет-магазин предлагает следующие условия скидок:\n",
        "\n",
        "*   Для заказов больше 1000 единиц, клиент получает скидку 5%. Если клиент использует промокод SUPERDISCOUNT, он получает скидку 10% (вместо 5%).\n",
        "*  Для заказов более 5000 единиц, клиент получает скидку 15%, а использование промокода SUPERDISCOUNT увеличивает скидку до 20% (вместо 15%).\n",
        "\n",
        "Этап 1:\n",
        "Ввод:\n",
        "```\n",
        "Введите стоимость единицы товара: 5\n",
        "Введите количество товара: 1001\n",
        "Введите промокод: GiVEMEDISCONT\n",
        "```\n",
        "\n",
        "Вывод:\n",
        "\n",
        "```\n",
        "Ваша скидка: 5%\n",
        "Итоговая сумма: 4750.0\n",
        "```\n",
        "Этап 2:\n",
        "\n",
        "Оформите ваш код в виде функции"
      ],
      "metadata": {
        "id": "HmX0c6YPJSQr"
      }
    },
    {
      "cell_type": "code",
      "source": [
        "price = int(input('Введите стоимость единицы товара:'))\n",
        "kolich = int(input('Введите количество товара:'))\n",
        "promocode = input('Введите промокод:')\n",
        "itog = price * kolich\n",
        "\n",
        "if kolich > 1000 and kolich < 5000:\n",
        "  if promocode == 'SUPERDISCOUNT':\n",
        "    print('Ваша скидка 10%')\n",
        "    print('Итоговая сумма:', itog - itog * 0.1)\n",
        "  else:\n",
        "    print('Ваша скидка 5%')\n",
        "    print('Итоговая сумма:', itog - (itog * 0.05))\n",
        "elif kolich >= 5000:\n",
        "  if promocode == 'SUPERDISCOUNT':\n",
        "    print('Ваша скидка 20%')\n",
        "    print('Итоговая сумма:', itog - itog * 0.2)\n",
        "  else:\n",
        "    print('Ваша скидка 15%')\n",
        "    print('Итоговая сумма:', itog - itog * 0.15)\n",
        "else:\n",
        "  print('У вас нет скидки')\n",
        "  print('Итоговая сумма:', itog)"
      ],
      "metadata": {
        "id": "OAIMIpklMN5D",
        "colab": {
          "base_uri": "https://localhost:8080/"
        },
        "outputId": "3a9e40fa-7586-4dfb-b7e4-9f8c74cf3668"
      },
      "execution_count": null,
      "outputs": [
        {
          "output_type": "stream",
          "name": "stdout",
          "text": [
            "Введите стоимость единицы товара:1\n",
            "Введите количество товара:2000\n",
            "Введите промокод:GiVEMEDISCONT\n",
            "Ваша скидка 10%\n",
            "Итоговая сумма: 1800.0\n"
          ]
        }
      ]
    },
    {
      "cell_type": "markdown",
      "source": [
        "**Задача 2:**\n",
        "\n",
        "Этап 1:\n",
        "Напишите программу способную отфильтровать список и вывести только положительные элементы\n",
        "\n",
        "\n",
        "Ввод:\n",
        "```\n",
        "-1 5 1 2 -3\n",
        "```\n",
        "\n",
        "Вывод:\n",
        "\n",
        "```\n",
        "5 1 2\n",
        "```\n",
        "\n",
        "Этап 2:\n",
        "\n",
        "Оформите ваш код в виде функции"
      ],
      "metadata": {
        "id": "eeRVWpuLNGJ0"
      }
    },
    {
      "cell_type": "code",
      "source": [
        "numbers = input('Введите числа через пробел:').split()\n",
        "\n",
        "for number in numbers:\n",
        "  if int(number) > 0:\n",
        "    print(number)"
      ],
      "metadata": {
        "id": "Xbi6bL0WOE9N",
        "colab": {
          "base_uri": "https://localhost:8080/"
        },
        "outputId": "6bcdff60-4385-4c7e-b43b-994a3bcccccf"
      },
      "execution_count": null,
      "outputs": [
        {
          "output_type": "stream",
          "name": "stdout",
          "text": [
            "Введите числа через пробел:1 2 -6 -4 5 -6\n",
            "1\n",
            "2\n",
            "5\n"
          ]
        }
      ]
    },
    {
      "cell_type": "markdown",
      "source": [
        "**Задача 3:**\n",
        "\n",
        "Этап 1:\n",
        "Напишите программу реализующую Алгоритм Евклида\n",
        "\n",
        "\n",
        "> Алгоритм Евклида – это алгоритм нахождения наибольшего общего делителя (НОД) пары целых чисел.\n",
        "\n",
        "\n",
        "\n",
        "Ввод:\n",
        "```\n",
        "30 18\n",
        "```\n",
        "\n",
        "Вывод:\n",
        "\n",
        "```\n",
        "6\n",
        "```\n",
        "\n",
        "Этап 2:\n",
        "Оформите ваш код в виде функции\n"
      ],
      "metadata": {
        "id": "lV-w6G-POa6F"
      }
    },
    {
      "cell_type": "code",
      "source": [
        "number1 = int(input('Введите первое число:'))\n",
        "number2 = int(input('Введите второе число:'))\n",
        "nodd = 0\n",
        "\n",
        "if number1 < number2:\n",
        "  minn = number1\n",
        "else:\n",
        "  minn = number2\n",
        "\n",
        "for i in range(1, minn + 1):\n",
        "  if number1 % i == 0 and number2 % i == 0:\n",
        "    if i>nodd:\n",
        "      nodd = i\n",
        "\n",
        "\n",
        "print('НОД этих чисел =', nodd)\n"
      ],
      "metadata": {
        "id": "43Dl5tIpOZsu",
        "colab": {
          "base_uri": "https://localhost:8080/"
        },
        "outputId": "83887254-90c9-4656-d826-00bf32802308"
      },
      "execution_count": null,
      "outputs": [
        {
          "output_type": "stream",
          "name": "stdout",
          "text": [
            "Введите первое число:99\n",
            "Введите второе число:33\n",
            "НОД этих чисел = 33\n"
          ]
        }
      ]
    },
    {
      "cell_type": "markdown",
      "source": [
        "**Задача 4:**\n",
        "\n",
        "Этап 1:\n",
        "Напишите функцию программу, которая принимает строку и возвращает список слов и количество их упомнинаний в предложении\n",
        "\n",
        "Этап 2:\n",
        "Оформите ваш код в виде функции\n",
        "\n",
        "Ввод:\n",
        "```\n",
        "apple banana apple\n",
        "```\n",
        "\n",
        "Вывод:\n",
        "\n",
        "```\n",
        "apple: 2,\n",
        "banana: 1\n",
        "```"
      ],
      "metadata": {
        "id": "WIfPFxpsO0zL"
      }
    },
    {
      "cell_type": "code",
      "source": [
        "sentence = input('Ведите предложение:').split()\n",
        "new_sentence = []\n",
        "\n",
        "for word in sentence:\n",
        "  if word not in new_sentence:\n",
        "    new_sentence.append(word)\n",
        "\n",
        "for word in new_sentence:\n",
        "  words = 0\n",
        "  for word2 in sentence:\n",
        "    if word == word2:\n",
        "\n",
        "      words += 1\n",
        "  print(word, ':', words)\n"
      ],
      "metadata": {
        "id": "DgsmFeW5Po_x",
        "colab": {
          "base_uri": "https://localhost:8080/"
        },
        "outputId": "1816a477-d06d-4d40-b4c7-5eb11090b1bd"
      },
      "execution_count": 11,
      "outputs": [
        {
          "output_type": "stream",
          "name": "stdout",
          "text": [
            "Ведите предложение:qq ww qq ee ww ww rr\n",
            "qq : 2\n",
            "ww : 3\n",
            "ee : 1\n",
            "rr : 1\n"
          ]
        }
      ]
    },
    {
      "cell_type": "markdown",
      "source": [
        "**Задача 5:**\n",
        "\n",
        "Этап 1:\n",
        "Детектор анаграмм Напишите программу на Python, которая принимает в качестве входных данных две строки и проверяет, являются ли они анаграммами друг друга\n",
        "\n",
        "Этап 2:\n",
        "Оформите ваш код в виде функции\n",
        "\n",
        "Ввод:\n",
        "```\n",
        "listen, silent\n",
        "```\n",
        "\n",
        "Вывод:\n",
        "\n",
        "```\n",
        "True\n",
        "```"
      ],
      "metadata": {
        "id": "5BmIJLUZP9I-"
      }
    },
    {
      "cell_type": "code",
      "source": [
        "word1 = input('Ведите строку 1:')\n",
        "word2 = input('Ведите строку 2:')\n",
        "words = 0\n",
        "count = len(word2)\n",
        "count2 = len(word2) - 1\n",
        "\n",
        "\n",
        "for word in word1:\n",
        "  if word in word2:\n",
        "    words += 1\n",
        "\n",
        "\n",
        "if words == count:\n",
        "  print(True)\n",
        "else:\n",
        "  print(False)\n"
      ],
      "metadata": {
        "id": "7LNW8DuHQJwH",
        "colab": {
          "base_uri": "https://localhost:8080/"
        },
        "outputId": "da8a1b87-b56c-4be3-b801-627278e4202c"
      },
      "execution_count": null,
      "outputs": [
        {
          "output_type": "stream",
          "name": "stdout",
          "text": [
            "Ведите строку 1:wqe\n",
            "Ведите строку 2:qqew\n",
            "False\n"
          ]
        }
      ]
    },
    {
      "cell_type": "markdown",
      "source": [
        "**Задача 6:**\n",
        "\n",
        "Шифр ​​Цезаря\n",
        "\n",
        "Напишите программу на Python, которая реализует шифр Цезаря, простой метод шифрования, который заменяет каждую букву буквой на фиксированное количество позиций вниз по алфавиту. Программа должна запрашивать у пользователя сообщение и значение сдвига, а затем шифровать и расшифровывать сообщение.\n",
        "\n",
        "Этап 1:\n",
        "\n",
        "Напишите код для реализации данной задачи\n",
        "\n",
        "Этап 2:\n",
        "\n",
        "Оформите код в виде нескольких функций:\n",
        "\n",
        "* Зашифровывает сообщение\n",
        "* Расшифровывает сообщение"
      ],
      "metadata": {
        "id": "-SIWYSq2QKBh"
      }
    },
    {
      "cell_type": "code",
      "source": [
        "alfavit = ['a', 'b', 'c', 'd', 'e', 'f', 'g', 'h', 'i', 'j', 'k', 'l', 'm', 'n', 'o', 'p', 'q', 'r', 's', 't', 'u', 'v', 'w', 'x', 'y', 'z']\n",
        "new_word = []\n",
        "old_word = []\n",
        "words = input('Введите слово/предложение для шифра ')\n",
        "cipher = int(input('Количество позиций: '))\n",
        "\n",
        "\n",
        "for word in words:\n",
        "  count = 0\n",
        "  if word == ' ' :\n",
        "      new_word.append(' ')\n",
        "  else:\n",
        "    for buk in alfavit:\n",
        "\n",
        "      if word == alfavit[count]:\n",
        "        if (count + cipher + 1) > len(alfavit):\n",
        "          new_word.append(alfavit[count + cipher - len(alfavit)])\n",
        "          count += 1\n",
        "        else:\n",
        "          new_word.append(alfavit[count + cipher])\n",
        "          count += 1\n",
        "\n",
        "      else:\n",
        "        count += 1\n",
        "\n",
        "\n",
        "print('Ваша зашифрованная инфомация:', ''.join(new_word))\n",
        "\n",
        "\n",
        "for word in new_word:\n",
        "  count = 0\n",
        "  if word == ' ' :\n",
        "      old_word.append(' ')\n",
        "  else:\n",
        "    for buk in alfavit:\n",
        "      if word == alfavit[count]:\n",
        "        old_word.append(alfavit[count - cipher])\n",
        "        count += 1\n",
        "      else:\n",
        "        count += 1\n",
        "\n",
        "\n",
        "print('Ваша изначальная информация', ''.join(old_word))"
      ],
      "metadata": {
        "id": "anThYirsQe6N",
        "colab": {
          "base_uri": "https://localhost:8080/"
        },
        "outputId": "4cc233d9-ccb2-45d1-92bd-95c2da60745f"
      },
      "execution_count": 6,
      "outputs": [
        {
          "output_type": "stream",
          "name": "stdout",
          "text": [
            "Введите слово/предложение для шифра aab yyz\n",
            "Количество позиций: 2\n",
            "Ваша зашифрованная инфомация: ccd aab\n",
            "Ваша изначальная информация aab yyz\n"
          ]
        }
      ]
    },
    {
      "cell_type": "markdown",
      "source": [
        "**Задача 7**\n",
        "\n",
        "Задача: «Банковская система»\n",
        "\n",
        "Создайте программу Python, которая имитирует базовую банковскую систему. Система должна иметь следующие функции:\n",
        "\n",
        "Требования\n",
        "*   Система должна позволять клиентам создавать счета и хранить их балансы.\n",
        "*   Система должна позволять клиентам вносить и снимать деньги со своих счетов.\n",
        "*   Система должна позволять клиентам проверять свой текущий баланс.\n",
        "*   Система должна позволять клиентам переводить деньги между счетами.\n",
        "*   Система должна отслеживать транзакции (депозиты, снятия и переводы) и иметь возможность печатать детали транзакций.\n",
        "\n",
        "\n",
        "Задачи\n",
        "1. Реализуйте банковскую систему, используя только базовые конструкции Python, такие как def, lists, if, elif и else, без классов или словарей.\n",
        "Определите функции для создания счетов, внесения и снятия денег, получения балансов счетов, перевода денег между счетами, а также создания и печати транзакций.\n",
        "2. Напишите основную функцию, которая демонстрирует использование банковской системы путем создания счетов, внесения и снятия денег и перевода денег между счетами.\n",
        "3. Бонусное задание\n",
        "Реализуйте способ хранения и печати истории транзакций для каждого счета.\n",
        "\n",
        "Ограничения\n",
        "Не используйте классы или словари.\n",
        "Используйте только базовые конструкции Python, такие как def, lists, if, elif и else.\n"
      ],
      "metadata": {
        "id": "avFZRRXrQz9O"
      }
    },
    {
      "cell_type": "code",
      "source": [
        "name_accounts = ['Счета']\n",
        "money_accounts = ['Средства']\n",
        "transaction_history = []\n",
        "\n",
        "\n",
        "\n",
        "while True:\n",
        "  account = 0\n",
        "  money = 0\n",
        "  go = input('Что Вы хотите сделать? 1.Создать счёт  2.Внести  3.Снять  4.Проверить баланс  5.Перевести  6.История  7.Выйти   ')\n",
        "\n",
        "  if go == '1':\n",
        "    new_account = input('Как будет называться счёт?  ')\n",
        "    name_accounts.append(new_account)\n",
        "    money_accounts.append(0)\n",
        "    print('Новый счёт создан, баланс 0')\n",
        "    transaction = 'Создали счёт ' + new_account\n",
        "    transaction_history.append(transaction)\n",
        "\n",
        "  elif go == '2':\n",
        "    for i in range(len(name_accounts)):\n",
        "      print(i, name_accounts[i])\n",
        "    account = int(input('Введите номер счёта на который хотите внести средства  '))\n",
        "    money = int(input('Какое количество средств хотите внести? '))\n",
        "    money_accounts[account] = money_accounts[account] + money\n",
        "    print('Средства зачислены!')\n",
        "    transaction = 'Внесение ' + str(money) + ' на счёт ' + str(name_accounts[account])\n",
        "    transaction_history.append(transaction)\n",
        "\n",
        "  elif go == '3':\n",
        "    for i in range(len(name_accounts)):\n",
        "      print(i, name_accounts[i])\n",
        "    account = int(input('Введите номер счёта с которого хотите снять средства  '))\n",
        "    money = int(input('Какое количество средств хотите снять? '))\n",
        "    if money_accounts[account] < money:\n",
        "      print('Недостаточно средств')\n",
        "      transaction = 'Пытались снять ' + str(money) + ' со счёта ' + str(name_accounts[account])\n",
        "      transaction_history.append(transaction)\n",
        "    else:\n",
        "      money_accounts[account] = money_accounts[account] - money\n",
        "      print('Средства списаны!')\n",
        "      transaction = 'Снятие ' + str(money) + ' со счёта ' + str(name_accounts[account])\n",
        "      transaction_history.append(transaction)\n",
        "\n",
        "  elif go == '4':\n",
        "    for i in range(len(name_accounts)):\n",
        "      print(i, name_accounts[i])\n",
        "    account = int(input('На каком счету хотите посмотреть баланс? '))\n",
        "    print('На счету', name_accounts[account], money_accounts[account], 'средств')\n",
        "    transaction = 'Смотрели баланс на счёте ' + str(name_accounts[account])\n",
        "    transaction_history.append(transaction)\n",
        "\n",
        "  elif go == '5':\n",
        "    for i in range(len(name_accounts)):\n",
        "      print(i, name_accounts[i])\n",
        "    account1 = int(input('С какого счёта Вы хотите превести средства? '))\n",
        "    account2 = int(input('На какой счёта Вы хотите превести средства? '))\n",
        "    money = int(input('Какое количество средств Вы хотите перевести? '))\n",
        "    if money_accounts[account1] < money:\n",
        "      print('Недостаточно средств')\n",
        "      transaction = 'Пытались перевести ' + str(money) + ' со счёта ' + str(name_accounts[account1]) + ' на счёт ' + str(name_accounts[account2])\n",
        "      transaction_history.append(transaction)\n",
        "    else:\n",
        "      money_accounts[account1] = money_accounts[account1] - money\n",
        "      money_accounts[account2] = money_accounts[account2] + money\n",
        "      print('Средства перечислены!')\n",
        "      transaction = 'Перечислили ' + str(money) + ' со счёта ' + str(name_accounts[account1]) + ' на счёт ' + str(name_accounts[account2])\n",
        "      transaction_history.append(transaction)\n",
        "\n",
        "  elif go == '6':\n",
        "    print('\\n'.join(transaction_history))\n",
        "    transaction_history.append('Просмотрели историю транзакций')\n",
        "\n",
        "  else:\n",
        "    break\n",
        "\n",
        "\n"
      ],
      "metadata": {
        "colab": {
          "base_uri": "https://localhost:8080/"
        },
        "id": "dWEW10zIRwjs",
        "outputId": "932b935f-1fbd-4fc8-db8b-7cad1a90b1de"
      },
      "execution_count": 23,
      "outputs": [
        {
          "name": "stdout",
          "output_type": "stream",
          "text": [
            "Что Вы хотите сделать? 1.Создать счёт  2.Внести  3.Снять  4.Проверить баланс  5.Перевести  6.История  7.Выйти   1\n",
            "Как будет называться счёт?  qq\n",
            "Новый счёт создан, баланс 0\n",
            "Что Вы хотите сделать? 1.Создать счёт  2.Внести  3.Снять  4.Проверить баланс  5.Перевести  6.История  7.Выйти   1\n",
            "Как будет называться счёт?  ww\n",
            "Новый счёт создан, баланс 0\n",
            "Что Вы хотите сделать? 1.Создать счёт  2.Внести  3.Снять  4.Проверить баланс  5.Перевести  6.История  7.Выйти   2\n",
            "0 Счета\n",
            "1 qq\n",
            "2 ww\n",
            "Введите номер счёта на который хотите внести средства  1\n",
            "Какое количество средств хотите внести? 200\n",
            "Средства зачислены!\n",
            "Что Вы хотите сделать? 1.Создать счёт  2.Внести  3.Снять  4.Проверить баланс  5.Перевести  6.История  7.Выйти   3\n",
            "0 Счета\n",
            "1 qq\n",
            "2 ww\n",
            "Введите номер счёта с которого хотите снять средства  2\n",
            "Какое количество средств хотите снять? 100\n",
            "Недостаточно средств\n",
            "Что Вы хотите сделать? 1.Создать счёт  2.Внести  3.Снять  4.Проверить баланс  5.Перевести  6.История  7.Выйти   3\n",
            "0 Счета\n",
            "1 qq\n",
            "2 ww\n",
            "Введите номер счёта с которого хотите снять средства  1\n",
            "Какое количество средств хотите снять? 100\n",
            "Средства списаны!\n",
            "Что Вы хотите сделать? 1.Создать счёт  2.Внести  3.Снять  4.Проверить баланс  5.Перевести  6.История  7.Выйти   4\n",
            "0 Счета\n",
            "1 qq\n",
            "2 ww\n",
            "На каком счету хотите посмотреть баланс? 1\n",
            "На счету qq 100 средств\n",
            "Что Вы хотите сделать? 1.Создать счёт  2.Внести  3.Снять  4.Проверить баланс  5.Перевести  6.История  7.Выйти   5\n",
            "0 Счета\n",
            "1 qq\n",
            "2 ww\n",
            "С какого счёта Вы хотите превести средства? 2\n",
            "На какой счёта Вы хотите превести средства? 1\n",
            "Какое количество средств Вы хотите перевести? 100\n",
            "Недостаточно средств\n",
            "Что Вы хотите сделать? 1.Создать счёт  2.Внести  3.Снять  4.Проверить баланс  5.Перевести  6.История  7.Выйти   5\n",
            "0 Счета\n",
            "1 qq\n",
            "2 ww\n",
            "С какого счёта Вы хотите превести средства? 1\n",
            "На какой счёта Вы хотите превести средства? 2\n",
            "Какое количество средств Вы хотите перевести? 50\n",
            "Средства перечислены!\n",
            "Что Вы хотите сделать? 1.Создать счёт  2.Внести  3.Снять  4.Проверить баланс  5.Перевести  6.История  7.Выйти   6\n",
            "Создали счёт qq\n",
            "Создали счёт ww\n",
            "Внесение 200 на счёт qq\n",
            "Пытались снять 100 со счёта ww\n",
            "Снятие 100 со счёта qq\n",
            "Смотрели баланс на счёте qq\n",
            "Пытались перевести 100 со счёта ww на счёт qq\n",
            "Перечислили 50 со счёта qq на счёт ww\n",
            "Что Вы хотите сделать? 1.Создать счёт  2.Внести  3.Снять  4.Проверить баланс  5.Перевести  6.История  7.Выйти   7\n"
          ]
        }
      ]
    }
  ]
}