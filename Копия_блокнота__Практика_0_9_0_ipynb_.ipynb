{
  "cells": [
    {
      "cell_type": "markdown",
      "metadata": {
        "id": "8hJfL9b2l439"
      },
      "source": [
        "ФИО"
      ]
    },
    {
      "cell_type": "code",
      "execution_count": null,
      "metadata": {
        "id": "wRnqvYOkl6EX"
      },
      "outputs": [],
      "source": [
        "Кулакова Полина Сергеевна"
      ]
    },
    {
      "cell_type": "markdown",
      "metadata": {
        "id": "weOtPwPQmgpD"
      },
      "source": [
        "# Дисклеймер"
      ]
    },
    {
      "cell_type": "markdown",
      "metadata": {
        "id": "LznB3uscmjDa"
      },
      "source": [
        "В данной практике вам необходимо применить все ваши знания по темам:\n",
        "\n",
        "- Функции\n",
        "- Словари\n",
        "- Списки\n",
        "- Множества\n",
        "- Условные конструкции\n",
        "- Запросы\n",
        "\n",
        "и все что было изучено на прошлых практических занятиях\n",
        "\n",
        "В каждом задании кратко описаны функции, которые необходимо реализовать, детали реализации вы должны продумать самостоятельно"
      ]
    },
    {
      "cell_type": "markdown",
      "metadata": {
        "id": "7nSJIqkTvC_C"
      },
      "source": [
        "# Задание 0"
      ]
    },
    {
      "cell_type": "markdown",
      "metadata": {
        "id": "exACjTiVvGUe"
      },
      "source": [
        "Создайте функцию по нахождению уникальных элементов из двух списков\n",
        "\n",
        "\n",
        "\n",
        "```\n",
        "a = [1, 2, 3, 4]\n",
        "b = [3, 4, 5, 6]\n",
        "```\n",
        "\n"
      ]
    },
    {
      "cell_type": "code",
      "execution_count": null,
      "metadata": {
        "colab": {
          "base_uri": "https://localhost:8080/"
        },
        "id": "dQheNSYd4nd2",
        "outputId": "9774e393-44d1-4193-a54e-a3abedfffbaf"
      },
      "outputs": [
        {
          "name": "stdout",
          "output_type": "stream",
          "text": [
            "[1, 2, 5, 6]\n"
          ]
        }
      ],
      "source": [
        "a = [1, 2, 3, 4]\n",
        "b = [3, 4, 5, 6]\n",
        "c = [ ]\n",
        "\n",
        "\n",
        "for i in a:\n",
        "  if i not in b:\n",
        "    c.append(i)\n",
        "\n",
        "\n",
        "for i in b:\n",
        "  if i not in a:\n",
        "    c.append(i)\n",
        "\n",
        "\n",
        "print(c)"
      ]
    },
    {
      "cell_type": "markdown",
      "metadata": {
        "id": "SVWNlBALpCNo"
      },
      "source": [
        "# Задание 1"
      ]
    },
    {
      "cell_type": "markdown",
      "metadata": {
        "id": "RcKA-VEqpC7f"
      },
      "source": [
        "Симулятор виртуального питомца\n",
        "\n",
        "Цель: создать виртуальный симулятор домашних животных, в котором пользователи смогут заводить питомцев и ухаживать за ними.\n",
        "\n",
        "Требования:\n",
        "\n",
        "- Функция для усыновления питомца (имя, тип, возраст).\n",
        "- Функция для того, чтобы покормить питомца, поиграть с ним или уложить его спать.\n",
        "- Функция для отображения состояния питомца (голод, радость, энергия)."
      ]
    },
    {
      "cell_type": "code",
      "execution_count": null,
      "metadata": {
        "colab": {
          "background_save": true,
          "base_uri": "https://localhost:8080/"
        },
        "id": "hE7mF-HXpJLO",
        "outputId": "9c7ef86f-ca17-41b7-a0f9-e282a6c81e19"
      },
      "outputs": [
        {
          "name": "stdout",
          "output_type": "stream",
          "text": [
            "Вы усыновили питомца!\n",
            "Его показатели:Голод 5 Радость 5 Энергия 5\n",
            "Максимальный показатель 6\n",
            "Ваш питомец весело поиграл!!!!!\n",
            "Ваш питомец крепко поспал!\n",
            "Ваш питомец покушал!0 з 0\n",
            "Ваш питомец весело поиграл!!!!!\n",
            "Ваш питомец уже слишком счастлив!(\n",
            "Ваши показатели:\n",
            "Голод:   4\n",
            "Радость:   6\n",
            "Энергия:   4\n",
            "Ваш питомец крепко поспал!\n",
            "Ваш питомец весело поиграл!!!!!\n",
            "Ваш питомец уже слишком счастлив!(\n",
            "Ваш питомец уже слишком счастлив!(\n",
            "Ваш питомец уже слишком счастлив!(\n",
            "Показатели энергии слишком низкие!! *-*\n",
            "Ваш питомец уже слишком счастлив!(\n",
            "Показатели энергии слишком низкие!! *-*\n",
            "Ваш питомец уже слишком счастлив!(\n",
            "Ваш питомец уже слишком счастлив!(\n",
            "Ваш питомец уже слишком счастлив!(\n",
            "Ваш питомец уже слишком счастлив!(\n",
            "Ваш питомец уже слишком счастлив!(\n",
            "Ваш питомец уже слишком счастлив!(\n",
            "Ваш питомец уже слишком счастлив!(\n",
            "Ваши показатели:\n",
            "Голод:   3\n",
            "Радость:   6\n",
            "Энергия:   -6\n"
          ]
        }
      ],
      "source": [
        "def number4(hu, ha, en):\n",
        "  print('Ваши показатели:')\n",
        "  print('Голод:  ', hu)\n",
        "  print('Радость:  ', ha)\n",
        "  print('Энергия:  ', en)\n",
        "\n",
        "\n",
        "def life(hu, ha, en):\n",
        "  if 0 < hu < 3:\n",
        "    print('Показатели голода слишком низкие!!(.)__(.)')\n",
        "  elif 0 < ha < 3:\n",
        "    print('Показатели радости слишком низкие!! \\ - /')\n",
        "  elif 0 < en < 3:\n",
        "    print('Показатели энергии слишком низкие!! *-*')\n",
        "\n",
        "\n",
        "name = input('Как будут звать Вашего питомца?')\n",
        "tipe = input('Что это будет за питомец?')\n",
        "year = input('Какой возраст будет у Вашего питомца?')\n",
        "print('Вы усыновили питомца!')\n",
        "hungry = 5\n",
        "happy = 5\n",
        "energy = 5\n",
        "print('Его показатели:Голод', hungry, 'Радость', happy, 'Энергия', energy)\n",
        "print('Максимальный показатель 6')\n",
        "\n",
        "\n",
        "while True:\n",
        "  go = input('Что Вы хотите сделать: 1.покрмить , 2.поиграть , 3.уложить спать, 4. Узнать показатели 5.выйти  ')\n",
        "\n",
        "  if go == '1':\n",
        "    if hungry == 6:\n",
        "      print('Ваш питомец уже сыт! 0-0')\n",
        "      energy -= 1\n",
        "    else:\n",
        "      print('Ваш питомец покушал!0 з 0')\n",
        "      energy -= 1\n",
        "      hungry += 1\n",
        "    if 1 > (energy or happy or hungry):\n",
        "      print('Вы плохо следите за питомцем, он сбежал!')\n",
        "      break\n",
        "    life(hungry, happy, energy)\n",
        "\n",
        "  elif go == '2':\n",
        "    if happy == 6:\n",
        "      print('Ваш питомец уже слишком счастлив!(')\n",
        "      energy -= 1\n",
        "    else:\n",
        "      happy += 1\n",
        "      hungry -= 1\n",
        "      print('Ваш питомец весело поиграл!!!!!')\n",
        "\n",
        "    if (hungry or happy or energy) < 1:\n",
        "      print('Вы плохо следите за питомцем, он сбежал!')\n",
        "      break\n",
        "    life(hungry, happy, energy)\n",
        "\n",
        "  elif go == '3':\n",
        "    if energy == 6:\n",
        "      print('Ваш питомец не хочет спать!')\n",
        "      energy -= 1\n",
        "    else:\n",
        "      energy += 1\n",
        "      happy -= 1\n",
        "      print('Ваш питомец крепко поспал!')\n",
        "\n",
        "    if (hungry or happy or energy) < 1:\n",
        "      print('Вы плохо следите за питомцем, он сбежал!')\n",
        "      break\n",
        "    life(hungry, happy, energy)\n",
        "\n",
        "  elif go == '4':\n",
        "    number4(hungry, happy, energy)\n",
        "\n",
        "\n",
        "\n",
        "  else:\n",
        "    break\n",
        "\n",
        "\n",
        "\n",
        "\n",
        "\n",
        "\n"
      ]
    },
    {
      "cell_type": "markdown",
      "metadata": {
        "id": "qZ7qFQnmssNd"
      },
      "source": [
        "# Задание 2"
      ]
    },
    {
      "cell_type": "markdown",
      "metadata": {
        "id": "UaccTe7ltNvg"
      },
      "source": [
        "Рыцарь и дракон\n",
        "\n",
        "Цель: создать небольшую игру, в которой вам необходимо играть за рыцаря и сразиться с драконом\n",
        "\n",
        "Требования:\n",
        "\n",
        "- Создание персонажа (имя, информация о доспехах, оружии, урон, здоровье)\n",
        "- Управление персонажем и мини сюжет\n",
        "- Создание дракона (Имя, информация о здоровье и уроне)\n",
        "- Боевая система (нанесение и получение урона, урон должен быть случайным в заданном диапазоне)\n",
        "- Реализовать бой между драконом и рыцарем"
      ]
    },
    {
      "cell_type": "code",
      "execution_count": null,
      "metadata": {
        "colab": {
          "base_uri": "https://localhost:8080/"
        },
        "id": "LCcxp5Q0srjY",
        "outputId": "c41e20a5-2c60-4c3b-b4ab-438ebb780f1b"
      },
      "outputs": [
        {
          "name": "stdout",
          "output_type": "stream",
          "text": [
            "Как будут звать Вашего персонажа?qq\n",
            "Всего у Вас 30 здоровья\n",
            "18\n"
          ]
        }
      ],
      "source": [
        "import random\n",
        "def damage(weapon, damage_you):\n",
        "  if weapon == 'копьё':\n",
        "    return damage_you + 15\n",
        "  elif weapon == 'меч':\n",
        "    return damage_you + 20\n",
        "  else:\n",
        "    return damage_you + 25\n",
        "\n",
        "\n",
        "name = input('Как будут звать Вашего персонажа?')\n",
        "print('Всего у Вас 30 здоровья')\n",
        "weapon0 = ['копьё', 'меч', 'топор']\n",
        "armor0 = ['бумажные доспехи', 'кожанный доспехи', 'колчужные доспехи']\n",
        "weapon = random.choice(weapon0)\n",
        "armor = random.choice(armor0)\n",
        "damage_you = 3\n",
        "health_you = 30\n",
        "print('Ваше оружие:', weapon)\n",
        "\n",
        "damage_you = damage(weapon, damage_you)\n",
        "print(damage_you)\n",
        "\n"
      ]
    },
    {
      "cell_type": "markdown",
      "metadata": {
        "id": "N8oFiEXol3e2"
      },
      "source": [
        "# Задание 3\n"
      ]
    },
    {
      "cell_type": "markdown",
      "metadata": {
        "id": "9p4WQG_Vl7wB"
      },
      "source": [
        "Цель - создать менеджера команды Pokémon, который позволит пользователям:\n",
        "\n",
        "- Добавлять покемонов в свою команду. (если такого покемона еще нет в команде)\n",
        "- Удалять покемонов из их команды.\n",
        "- Просматривать подробную информацию обо всех покемонах в команде.\n",
        "- Находить покемона по имени.\n",
        "- Устраивать тренировочный бой между двумя покемонами\n",
        "\n",
        "Для данной задачи используйте: https://pokeapi.co/\n"
      ]
    },
    {
      "cell_type": "code",
      "execution_count": null,
      "metadata": {
        "id": "NnGYp1MTqi5k"
      },
      "outputs": [],
      "source": [
        "\n"
      ]
    }
  ],
  "metadata": {
    "colab": {
      "provenance": []
    },
    "kernelspec": {
      "display_name": "Python 3",
      "name": "python3"
    },
    "language_info": {
      "name": "python"
    }
  },
  "nbformat": 4,
  "nbformat_minor": 0
}